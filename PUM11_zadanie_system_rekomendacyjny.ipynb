{
  "nbformat": 4,
  "nbformat_minor": 0,
  "metadata": {
    "colab": {
      "provenance": [],
      "authorship_tag": "ABX9TyMzHV653YDE70LSX+oE1TMK",
      "include_colab_link": true
    },
    "kernelspec": {
      "name": "python3",
      "display_name": "Python 3"
    },
    "language_info": {
      "name": "python"
    }
  },
  "cells": [
    {
      "cell_type": "markdown",
      "metadata": {
        "id": "view-in-github",
        "colab_type": "text"
      },
      "source": [
        "<a href=\"https://colab.research.google.com/github/pawelrat009/ML2025-1/blob/main/PUM11_zadanie_system_rekomendacyjny.ipynb\" target=\"_parent\"><img src=\"https://colab.research.google.com/assets/colab-badge.svg\" alt=\"Open In Colab\"/></a>"
      ]
    },
    {
      "cell_type": "code",
      "execution_count": 1,
      "metadata": {
        "colab": {
          "base_uri": "https://localhost:8080/"
        },
        "id": "_tG3TeHuzcqk",
        "outputId": "f45ffc7b-9748-40a4-c2a1-87f041df9114"
      },
      "outputs": [
        {
          "output_type": "stream",
          "name": "stdout",
          "text": [
            "Requirement already satisfied: numpy==1.23.5 in /usr/local/lib/python3.11/dist-packages (1.23.5)\n"
          ]
        }
      ],
      "source": [
        "!pip install numpy==1.23.5"
      ]
    },
    {
      "cell_type": "code",
      "source": [
        "import pandas as pd"
      ],
      "metadata": {
        "id": "myxzL0Rqz3Dj"
      },
      "execution_count": 7,
      "outputs": []
    },
    {
      "cell_type": "code",
      "source": [
        "ratings = pd.read_csv('ratings.csv')\n",
        "movies = pd.read_csv('movies.csv')\n",
        "movie_titles = dict(zip(movies['movieId'], movies['title']))"
      ],
      "metadata": {
        "id": "g6qysXSe0p6U"
      },
      "execution_count": 8,
      "outputs": []
    },
    {
      "cell_type": "code",
      "source": [
        "!pip install surprise"
      ],
      "metadata": {
        "colab": {
          "base_uri": "https://localhost:8080/"
        },
        "id": "YlTMWjIwz2w2",
        "outputId": "e9bd5356-7417-427b-d647-919c5a3946b6"
      },
      "execution_count": 9,
      "outputs": [
        {
          "output_type": "stream",
          "name": "stdout",
          "text": [
            "Collecting surprise\n",
            "  Downloading surprise-0.1-py2.py3-none-any.whl.metadata (327 bytes)\n",
            "Collecting scikit-surprise (from surprise)\n",
            "  Downloading scikit_surprise-1.1.4.tar.gz (154 kB)\n",
            "\u001b[?25l     \u001b[90m━━━━━━━━━━━━━━━━━━━━━━━━━━━━━━━━━━━━━━━━\u001b[0m \u001b[32m0.0/154.4 kB\u001b[0m \u001b[31m?\u001b[0m eta \u001b[36m-:--:--\u001b[0m\r\u001b[2K     \u001b[90m━━━━━━━━━━━━━━━━━━━━━━━━━━━━━━━━━━━━━━━\u001b[0m \u001b[32m154.4/154.4 kB\u001b[0m \u001b[31m5.8 MB/s\u001b[0m eta \u001b[36m0:00:00\u001b[0m\n",
            "\u001b[?25h  Installing build dependencies ... \u001b[?25l\u001b[?25hdone\n",
            "  Getting requirements to build wheel ... \u001b[?25l\u001b[?25hdone\n",
            "  Preparing metadata (pyproject.toml) ... \u001b[?25l\u001b[?25hdone\n",
            "Requirement already satisfied: joblib>=1.2.0 in /usr/local/lib/python3.11/dist-packages (from scikit-surprise->surprise) (1.5.0)\n",
            "Requirement already satisfied: numpy>=1.19.5 in /usr/local/lib/python3.11/dist-packages (from scikit-surprise->surprise) (1.23.5)\n",
            "Requirement already satisfied: scipy>=1.6.0 in /usr/local/lib/python3.11/dist-packages (from scikit-surprise->surprise) (1.15.3)\n",
            "Downloading surprise-0.1-py2.py3-none-any.whl (1.8 kB)\n",
            "Building wheels for collected packages: scikit-surprise\n",
            "  Building wheel for scikit-surprise (pyproject.toml) ... \u001b[?25l\u001b[?25hdone\n",
            "  Created wheel for scikit-surprise: filename=scikit_surprise-1.1.4-cp311-cp311-linux_x86_64.whl size=2461549 sha256=e8bf281b323f157f565f02fea0fadd37dda38f2e18363ae2d6ebdfb04652955a\n",
            "  Stored in directory: /root/.cache/pip/wheels/2a/8f/6e/7e2899163e2d85d8266daab4aa1cdabec7a6c56f83c015b5af\n",
            "Successfully built scikit-surprise\n",
            "Installing collected packages: scikit-surprise, surprise\n",
            "Successfully installed scikit-surprise-1.1.4 surprise-0.1\n"
          ]
        }
      ]
    },
    {
      "cell_type": "code",
      "source": [
        "# importing relevant libraries\n",
        "from surprise.model_selection import cross_validate, GridSearchCV\n",
        "from surprise.prediction_algorithms import SVD, KNNBasic, KNNBaseline\n",
        "from surprise import Dataset\n",
        "from surprise import Reader"
      ],
      "metadata": {
        "id": "84-0Pwvu1NMu"
      },
      "execution_count": 11,
      "outputs": []
    },
    {
      "cell_type": "code",
      "source": [
        "# Get minimum and maximum rating from the dataset\n",
        "min_rating = ratings.rating.min()\n",
        "max_rating = ratings.rating.max()\n",
        "reader = Reader(rating_scale=(min_rating, max_rating))\n",
        "data = Dataset.load_from_df(ratings[['userId','movieId','rating']], reader)"
      ],
      "metadata": {
        "id": "dq73kR2q1PcE"
      },
      "execution_count": 13,
      "outputs": []
    },
    {
      "cell_type": "code",
      "source": [
        "# algorytm SVD\n",
        "algo = SVD()\n",
        "\n",
        "# walidacja krzyżowa\n",
        "cross_validate(algo, data, measures=['rmse', 'mae'], cv=5, verbose=True)"
      ],
      "metadata": {
        "colab": {
          "base_uri": "https://localhost:8080/"
        },
        "id": "iCW0_haW4XXJ",
        "outputId": "f3b2beee-e76c-48ef-e2b5-7981a2ac620c"
      },
      "execution_count": 14,
      "outputs": [
        {
          "output_type": "stream",
          "name": "stdout",
          "text": [
            "Evaluating RMSE, MAE of algorithm SVD on 5 split(s).\n",
            "\n",
            "                  Fold 1  Fold 2  Fold 3  Fold 4  Fold 5  Mean    Std     \n",
            "RMSE (testset)    0.8764  0.8744  0.8630  0.8809  0.8743  0.8738  0.0059  \n",
            "MAE (testset)     0.6731  0.6710  0.6650  0.6788  0.6703  0.6716  0.0044  \n",
            "Fit time          1.99    1.50    1.51    1.51    1.49    1.60    0.20    \n",
            "Test time         0.23    0.24    0.13    0.11    0.26    0.19    0.06    \n"
          ]
        },
        {
          "output_type": "execute_result",
          "data": {
            "text/plain": [
              "{'test_rmse': array([0.87642967, 0.87444989, 0.86304965, 0.88093787, 0.87434727]),\n",
              " 'test_mae': array([0.67308707, 0.67102778, 0.66503172, 0.67875923, 0.67026011]),\n",
              " 'fit_time': (1.9889781475067139,\n",
              "  1.5017621517181396,\n",
              "  1.5113410949707031,\n",
              "  1.5068840980529785,\n",
              "  1.4864964485168457),\n",
              " 'test_time': (0.23185372352600098,\n",
              "  0.24416089057922363,\n",
              "  0.1261894702911377,\n",
              "  0.11214423179626465,\n",
              "  0.25968027114868164)}"
            ]
          },
          "metadata": {},
          "execution_count": 14
        }
      ]
    },
    {
      "cell_type": "code",
      "source": [
        "# Trenowanie modelu\n",
        "trainset = data.build_full_trainset()\n",
        "algo.fit(trainset)\n",
        "\n",
        "# rekomendacje dla użytkownika o ID=600\n",
        "user_id = 600\n",
        "movies_watched_by_user = ratings[ratings['userId'] == user_id]['movieId'].tolist()\n",
        "movies_not_watched = movies[~movies['movieId'].isin(movies_watched_by_user)]['movieId'].tolist()\n",
        "\n",
        "recommendations = []\n",
        "for movie_id in movies_not_watched:\n",
        "    prediction = algo.predict(user_id, movie_id)\n",
        "    recommendations.append((movie_id, prediction.est))\n",
        "\n",
        "# sortowanie wyników\n",
        "recommendations.sort(key=lambda x: x[1], reverse=True)\n",
        "\n",
        "# wyświetlenie wyników\n",
        "print(\"10 rekomendacji filmów dla użytkownika o id=600:\")\n",
        "print(f\"Rekomendacja (ocena predykcyjna) --- Tytuł filmu (rok produkcji)\")\n",
        "for movie_id, rating in recommendations[:10]:\n",
        "    print(f\"{round(rating, 4)} --- {movie_titles[movie_id]}\")"
      ],
      "metadata": {
        "colab": {
          "base_uri": "https://localhost:8080/"
        },
        "id": "qxM1_Feo2gsd",
        "outputId": "1173637c-0c8c-476a-cc53-c87ef7d0c2de"
      },
      "execution_count": 21,
      "outputs": [
        {
          "output_type": "stream",
          "name": "stdout",
          "text": [
            "10 rekomendacji filmów dla użytkownika o id=600:\n",
            "Rekomendacja (ocena predykcyjna) --- Tytuł filmu (rok produkcji)\n",
            "4.2382 --- Departed, The (2006)\n",
            "4.1884 --- Godfather: Part II, The (1974)\n",
            "4.1756 --- Usual Suspects, The (1995)\n",
            "4.1313 --- Donnie Darko (2001)\n",
            "4.1124 --- Outlaw Josey Wales, The (1976)\n",
            "4.0951 --- Paths of Glory (1957)\n",
            "4.0697 --- Wallace & Gromit: The Best of Aardman Animation (1996)\n",
            "4.0234 --- Grand Day Out with Wallace and Gromit, A (1989)\n",
            "3.9987 --- All the President's Men (1976)\n",
            "3.9859 --- Breakfast Club, The (1985)\n"
          ]
        }
      ]
    }
  ]
}