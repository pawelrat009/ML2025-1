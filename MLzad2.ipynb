{
  "nbformat": 4,
  "nbformat_minor": 0,
  "metadata": {
    "colab": {
      "provenance": [],
      "authorship_tag": "ABX9TyOJR4u8H8/5q3qTi1QpJxmO",
      "include_colab_link": true
    },
    "kernelspec": {
      "name": "python3",
      "display_name": "Python 3"
    },
    "language_info": {
      "name": "python"
    }
  },
  "cells": [
    {
      "cell_type": "markdown",
      "metadata": {
        "id": "view-in-github",
        "colab_type": "text"
      },
      "source": [
        "<a href=\"https://colab.research.google.com/github/pawelrat009/ML2025-1/blob/main/MLzad2.ipynb\" target=\"_parent\"><img src=\"https://colab.research.google.com/assets/colab-badge.svg\" alt=\"Open In Colab\"/></a>"
      ]
    },
    {
      "cell_type": "markdown",
      "source": [
        "Pobierz dane dotyczące scoringu kredytowego\n",
        "\n",
        "Pracujesz jako analityk danych w globalnej firmie finansowej. Przez lata firma gromadziła podstawowe dane bankowe i wiele informacji związanych z kredytami. Kierownictwo chce zbudować inteligentny system do segregowania ludzi w przedziałach oceny kredytowej, aby zmniejszyć wysiłek ręczny.\n",
        "\n",
        "Zadanie na dziś: przygotować dane do modelu"
      ],
      "metadata": {
        "id": "uU_9j7fBPupP"
      }
    },
    {
      "cell_type": "code",
      "execution_count": 1,
      "metadata": {
        "id": "O9J9ykafOPa-"
      },
      "outputs": [],
      "source": [
        "#import necessary libraries\n",
        "import pandas as pd\n",
        "import numpy as np\n",
        "import matplotlib.pyplot as plt\n",
        "import seaborn as sns\n",
        "from sklearn.preprocessing import LabelEncoder\n",
        "from sklearn.preprocessing import MultiLabelBinarizer"
      ]
    },
    {
      "cell_type": "code",
      "source": [
        "from sklearn.preprocessing import MinMaxScaler, StandardScaler\n",
        "from sklearn.model_selection import train_test_split"
      ],
      "metadata": {
        "id": "coreGEe-RrrG"
      },
      "execution_count": 2,
      "outputs": []
    },
    {
      "cell_type": "markdown",
      "source": [
        "import danych"
      ],
      "metadata": {
        "id": "T13jziqnQkjx"
      }
    },
    {
      "cell_type": "code",
      "source": [
        "\n",
        "# pip install kagglehub[pandas-datasets]\n",
        "import kagglehub\n",
        "from kagglehub import KaggleDatasetAdapter\n",
        "\n",
        "# Set the path to the file you'd like to load\n",
        "file_path = \"train.csv\"\n",
        "\n",
        "# Load the latest version\n",
        "df = kagglehub.load_dataset(KaggleDatasetAdapter.PANDAS, \"parisrohan/credit-score-classification\", file_path,\n",
        ")\n",
        "\n",
        "print(\"First 5 records:\", df.head())"
      ],
      "metadata": {
        "colab": {
          "base_uri": "https://localhost:8080/"
        },
        "collapsed": true,
        "id": "YCxwZrIlP7Np",
        "outputId": "5777e7ec-a9a1-49de-bd2b-86187ca60752"
      },
      "execution_count": 3,
      "outputs": [
        {
          "output_type": "stream",
          "name": "stderr",
          "text": [
            "<ipython-input-3-db52f5663265>:9: DeprecationWarning: load_dataset is deprecated and will be removed in future version.\n",
            "  df = kagglehub.load_dataset(KaggleDatasetAdapter.PANDAS, \"parisrohan/credit-score-classification\", file_path,\n"
          ]
        },
        {
          "output_type": "stream",
          "name": "stdout",
          "text": [
            "Downloading from https://www.kaggle.com/api/v1/datasets/download/parisrohan/credit-score-classification?dataset_version_number=1&file_name=train.csv...\n"
          ]
        },
        {
          "output_type": "stream",
          "name": "stderr",
          "text": [
            "100%|██████████| 6.09M/6.09M [00:00<00:00, 49.9MB/s]"
          ]
        },
        {
          "output_type": "stream",
          "name": "stdout",
          "text": [
            "Extracting zip of train.csv...\n"
          ]
        },
        {
          "output_type": "stream",
          "name": "stderr",
          "text": [
            "\n",
            "/usr/local/lib/python3.11/dist-packages/kagglehub/pandas_datasets.py:91: DtypeWarning: Columns (26) have mixed types. Specify dtype option on import or set low_memory=False.\n",
            "  result = read_function(\n"
          ]
        },
        {
          "output_type": "stream",
          "name": "stdout",
          "text": [
            "First 5 records:        ID Customer_ID     Month           Name   Age          SSN Occupation  \\\n",
            "0  0x1602   CUS_0xd40   January  Aaron Maashoh    23  821-00-0265  Scientist   \n",
            "1  0x1603   CUS_0xd40  February  Aaron Maashoh    23  821-00-0265  Scientist   \n",
            "2  0x1604   CUS_0xd40     March  Aaron Maashoh  -500  821-00-0265  Scientist   \n",
            "3  0x1605   CUS_0xd40     April  Aaron Maashoh    23  821-00-0265  Scientist   \n",
            "4  0x1606   CUS_0xd40       May  Aaron Maashoh    23  821-00-0265  Scientist   \n",
            "\n",
            "  Annual_Income  Monthly_Inhand_Salary  Num_Bank_Accounts  ...  Credit_Mix  \\\n",
            "0      19114.12            1824.843333                  3  ...           _   \n",
            "1      19114.12                    NaN                  3  ...        Good   \n",
            "2      19114.12                    NaN                  3  ...        Good   \n",
            "3      19114.12                    NaN                  3  ...        Good   \n",
            "4      19114.12            1824.843333                  3  ...        Good   \n",
            "\n",
            "   Outstanding_Debt Credit_Utilization_Ratio     Credit_History_Age  \\\n",
            "0            809.98                26.822620  22 Years and 1 Months   \n",
            "1            809.98                31.944960                    NaN   \n",
            "2            809.98                28.609352  22 Years and 3 Months   \n",
            "3            809.98                31.377862  22 Years and 4 Months   \n",
            "4            809.98                24.797347  22 Years and 5 Months   \n",
            "\n",
            "   Payment_of_Min_Amount Total_EMI_per_month Amount_invested_monthly  \\\n",
            "0                     No           49.574949       80.41529543900253   \n",
            "1                     No           49.574949      118.28022162236736   \n",
            "2                     No           49.574949         81.699521264648   \n",
            "3                     No           49.574949       199.4580743910713   \n",
            "4                     No           49.574949      41.420153086217326   \n",
            "\n",
            "                  Payment_Behaviour     Monthly_Balance Credit_Score  \n",
            "0   High_spent_Small_value_payments  312.49408867943663         Good  \n",
            "1    Low_spent_Large_value_payments  284.62916249607184         Good  \n",
            "2   Low_spent_Medium_value_payments   331.2098628537912         Good  \n",
            "3    Low_spent_Small_value_payments  223.45130972736786         Good  \n",
            "4  High_spent_Medium_value_payments  341.48923103222177         Good  \n",
            "\n",
            "[5 rows x 28 columns]\n"
          ]
        }
      ]
    },
    {
      "cell_type": "markdown",
      "source": [
        "Poznaj dane:\n",
        "1. sprawdź wymiary i typy kolumn\n",
        "2. usuń duplikaty\n",
        "3. usuń zbędne kolumny\n",
        "4. sprawdz liczbę braków danych w poszczególnych kolumnach"
      ],
      "metadata": {
        "id": "q99hYGOQQH4b"
      }
    },
    {
      "cell_type": "code",
      "source": [
        "#opisz statystyki danych\n",
        "df.describe()\n",
        "#zlicz różne wartości danych\n",
        "for i in df.columns:\n",
        " print(df[i].value_counts())\n",
        " print('*'*50)\n",
        "# pokaż liczności danych kategorycznych\n",
        "sns.countplot(df['Credit_Score'])\n",
        "#zastąp błędne dane"
      ],
      "metadata": {
        "colab": {
          "base_uri": "https://localhost:8080/",
          "height": 1000
        },
        "collapsed": true,
        "id": "KOKsoGhEQbx7",
        "outputId": "bb522b2f-e5e2-42e2-d401-086c04d4d187"
      },
      "execution_count": 4,
      "outputs": [
        {
          "output_type": "stream",
          "name": "stdout",
          "text": [
            "ID\n",
            "0x1602     1\n",
            "0x19c88    1\n",
            "0x19caa    1\n",
            "0x19ca5    1\n",
            "0x19ca4    1\n",
            "          ..\n",
            "0xd94d     1\n",
            "0xd94c     1\n",
            "0xd94b     1\n",
            "0xd94a     1\n",
            "0x25fed    1\n",
            "Name: count, Length: 100000, dtype: int64\n",
            "**************************************************\n",
            "Customer_ID\n",
            "CUS_0xd40     8\n",
            "CUS_0x9bf4    8\n",
            "CUS_0x5ae3    8\n",
            "CUS_0xbe9a    8\n",
            "CUS_0x4874    8\n",
            "             ..\n",
            "CUS_0x2eb4    8\n",
            "CUS_0x7863    8\n",
            "CUS_0x9d89    8\n",
            "CUS_0xc045    8\n",
            "CUS_0x942c    8\n",
            "Name: count, Length: 12500, dtype: int64\n",
            "**************************************************\n",
            "Month\n",
            "January     12500\n",
            "February    12500\n",
            "March       12500\n",
            "April       12500\n",
            "May         12500\n",
            "June        12500\n",
            "July        12500\n",
            "August      12500\n",
            "Name: count, dtype: int64\n",
            "**************************************************\n",
            "Name\n",
            "Langep            44\n",
            "Stevex            44\n",
            "Vaughanl          39\n",
            "Jessicad          39\n",
            "Raymondr          38\n",
            "                  ..\n",
            "Alina Selyukhg     4\n",
            "Habboushg          4\n",
            "Mortimerq          4\n",
            "Ronaldf            4\n",
            "Timothyl           3\n",
            "Name: count, Length: 10139, dtype: int64\n",
            "**************************************************\n",
            "Age\n",
            "38      2833\n",
            "28      2829\n",
            "31      2806\n",
            "26      2792\n",
            "32      2749\n",
            "        ... \n",
            "471        1\n",
            "1520       1\n",
            "8663       1\n",
            "3363       1\n",
            "1342       1\n",
            "Name: count, Length: 1788, dtype: int64\n",
            "**************************************************\n",
            "SSN\n",
            "#F%$D@*&8      5572\n",
            "078-73-5990       8\n",
            "486-78-3816       8\n",
            "750-67-7525       8\n",
            "903-50-0305       8\n",
            "               ... \n",
            "856-06-6147       4\n",
            "753-72-2651       4\n",
            "331-28-1921       4\n",
            "604-62-6133       4\n",
            "286-44-9634       4\n",
            "Name: count, Length: 12501, dtype: int64\n",
            "**************************************************\n",
            "Occupation\n",
            "_______          7062\n",
            "Lawyer           6575\n",
            "Architect        6355\n",
            "Engineer         6350\n",
            "Scientist        6299\n",
            "Mechanic         6291\n",
            "Accountant       6271\n",
            "Developer        6235\n",
            "Media_Manager    6232\n",
            "Teacher          6215\n",
            "Entrepreneur     6174\n",
            "Doctor           6087\n",
            "Journalist       6085\n",
            "Manager          5973\n",
            "Musician         5911\n",
            "Writer           5885\n",
            "Name: count, dtype: int64\n",
            "**************************************************\n",
            "Annual_Income\n",
            "36585.12     16\n",
            "20867.67     16\n",
            "17273.83     16\n",
            "9141.63      15\n",
            "33029.66     15\n",
            "             ..\n",
            "20269.93_     1\n",
            "15157.25_     1\n",
            "44955.64_     1\n",
            "76650.12_     1\n",
            "4262933.0     1\n",
            "Name: count, Length: 18940, dtype: int64\n",
            "**************************************************\n",
            "Monthly_Inhand_Salary\n",
            "6769.130000    15\n",
            "6358.956667    15\n",
            "2295.058333    15\n",
            "6082.187500    15\n",
            "3080.555000    14\n",
            "               ..\n",
            "1087.546445     1\n",
            "3189.212103     1\n",
            "5640.117744     1\n",
            "7727.560450     1\n",
            "2443.654131     1\n",
            "Name: count, Length: 13235, dtype: int64\n",
            "**************************************************\n",
            "Num_Bank_Accounts\n",
            "6       13001\n",
            "7       12823\n",
            "8       12765\n",
            "4       12186\n",
            "5       12118\n",
            "        ...  \n",
            "1626        1\n",
            "1470        1\n",
            "887         1\n",
            "211         1\n",
            "697         1\n",
            "Name: count, Length: 943, dtype: int64\n",
            "**************************************************\n",
            "Num_Credit_Card\n",
            "5       18459\n",
            "7       16615\n",
            "6       16559\n",
            "4       14030\n",
            "3       13277\n",
            "        ...  \n",
            "791         1\n",
            "1118        1\n",
            "657         1\n",
            "640         1\n",
            "679         1\n",
            "Name: count, Length: 1179, dtype: int64\n",
            "**************************************************\n",
            "Interest_Rate\n",
            "8       5012\n",
            "5       4979\n",
            "6       4721\n",
            "12      4540\n",
            "10      4540\n",
            "        ... \n",
            "4995       1\n",
            "1899       1\n",
            "2120       1\n",
            "5762       1\n",
            "5729       1\n",
            "Name: count, Length: 1750, dtype: int64\n",
            "**************************************************\n",
            "Num_of_Loan\n",
            "3        14386\n",
            "2        14250\n",
            "4        14016\n",
            "0        10380\n",
            "1        10083\n",
            "         ...  \n",
            "1320_        1\n",
            "103          1\n",
            "1444         1\n",
            "392          1\n",
            "966          1\n",
            "Name: count, Length: 434, dtype: int64\n",
            "**************************************************\n",
            "Type_of_Loan\n",
            "Not Specified                                                                                                                         1408\n",
            "Credit-Builder Loan                                                                                                                   1280\n",
            "Personal Loan                                                                                                                         1272\n",
            "Debt Consolidation Loan                                                                                                               1264\n",
            "Student Loan                                                                                                                          1240\n",
            "                                                                                                                                      ... \n",
            "Not Specified, Mortgage Loan, Auto Loan, and Payday Loan                                                                                 8\n",
            "Payday Loan, Mortgage Loan, Debt Consolidation Loan, and Student Loan                                                                    8\n",
            "Debt Consolidation Loan, Auto Loan, Personal Loan, Debt Consolidation Loan, Student Loan, and Credit-Builder Loan                        8\n",
            "Student Loan, Auto Loan, Student Loan, Credit-Builder Loan, Home Equity Loan, Debt Consolidation Loan, and Debt Consolidation Loan       8\n",
            "Personal Loan, Auto Loan, Mortgage Loan, Student Loan, and Student Loan                                                                  8\n",
            "Name: count, Length: 6260, dtype: int64\n",
            "**************************************************\n",
            "Delay_from_due_date\n",
            " 15    3596\n",
            " 13    3424\n",
            " 8     3324\n",
            " 14    3313\n",
            " 10    3281\n",
            "       ... \n",
            "-4       62\n",
            " 65      56\n",
            "-5       33\n",
            " 66      32\n",
            " 67      22\n",
            "Name: count, Length: 73, dtype: int64\n",
            "**************************************************\n",
            "Num_of_Delayed_Payment\n",
            "19      5327\n",
            "17      5261\n",
            "16      5173\n",
            "10      5153\n",
            "18      5083\n",
            "        ... \n",
            "848_       1\n",
            "4134       1\n",
            "1530       1\n",
            "1502       1\n",
            "2047       1\n",
            "Name: count, Length: 749, dtype: int64\n",
            "**************************************************\n",
            "Changed_Credit_Limit\n",
            "_                     2091\n",
            "8.22                   133\n",
            "11.5                   127\n",
            "11.32                  126\n",
            "7.35                   121\n",
            "                      ... \n",
            "-1.84                    1\n",
            "0.8899999999999999       1\n",
            "28.06                    1\n",
            "1.5599999999999996       1\n",
            "21.17                    1\n",
            "Name: count, Length: 4384, dtype: int64\n",
            "**************************************************\n",
            "Num_Credit_Inquiries\n",
            "4.0       11271\n",
            "3.0        8890\n",
            "6.0        8111\n",
            "7.0        8058\n",
            "2.0        8028\n",
            "          ...  \n",
            "1721.0        1\n",
            "1750.0        1\n",
            "2397.0        1\n",
            "621.0         1\n",
            "74.0          1\n",
            "Name: count, Length: 1223, dtype: int64\n",
            "**************************************************\n",
            "Credit_Mix\n",
            "Standard    36479\n",
            "Good        24337\n",
            "_           20195\n",
            "Bad         18989\n",
            "Name: count, dtype: int64\n",
            "**************************************************\n",
            "Outstanding_Debt\n",
            "1360.45     24\n",
            "460.46      23\n",
            "1151.7      23\n",
            "1109.03     23\n",
            "467.7       16\n",
            "            ..\n",
            "245.46_      1\n",
            "645.77_      1\n",
            "174.79_      1\n",
            "1181.13_     1\n",
            "1013.53_     1\n",
            "Name: count, Length: 13178, dtype: int64\n",
            "**************************************************\n",
            "Credit_Utilization_Ratio\n",
            "26.822620    1\n",
            "28.327949    1\n",
            "30.016576    1\n",
            "25.478841    1\n",
            "33.933755    1\n",
            "            ..\n",
            "30.687138    1\n",
            "38.730069    1\n",
            "30.017515    1\n",
            "27.279794    1\n",
            "34.192463    1\n",
            "Name: count, Length: 100000, dtype: int64\n",
            "**************************************************\n",
            "Credit_History_Age\n",
            "15 Years and 11 Months    446\n",
            "19 Years and 4 Months     445\n",
            "19 Years and 5 Months     444\n",
            "17 Years and 11 Months    443\n",
            "19 Years and 3 Months     441\n",
            "                         ... \n",
            "0 Years and 3 Months       20\n",
            "0 Years and 2 Months       15\n",
            "33 Years and 7 Months      14\n",
            "33 Years and 8 Months      12\n",
            "0 Years and 1 Months        2\n",
            "Name: count, Length: 404, dtype: int64\n",
            "**************************************************\n",
            "Payment_of_Min_Amount\n",
            "Yes    52326\n",
            "No     35667\n",
            "NM     12007\n",
            "Name: count, dtype: int64\n",
            "**************************************************\n",
            "Total_EMI_per_month\n",
            "0.000000        10613\n",
            "49.574949           8\n",
            "73.533361           8\n",
            "22.960835           8\n",
            "38.661127           8\n",
            "                ...  \n",
            "36408.000000        1\n",
            "23760.000000        1\n",
            "24612.000000        1\n",
            "24325.000000        1\n",
            "58638.000000        1\n",
            "Name: count, Length: 14950, dtype: int64\n",
            "**************************************************\n",
            "Amount_invested_monthly\n",
            "__10000__             4305\n",
            "0.0                    169\n",
            "80.41529543900253        1\n",
            "36.66235139442514        1\n",
            "89.7384893604547         1\n",
            "                      ... \n",
            "36.541908593249026       1\n",
            "93.45116318631192        1\n",
            "140.80972223052834       1\n",
            "38.73937670100975        1\n",
            "167.1638651610451        1\n",
            "Name: count, Length: 91049, dtype: int64\n",
            "**************************************************\n",
            "Payment_Behaviour\n",
            "Low_spent_Small_value_payments      25513\n",
            "High_spent_Medium_value_payments    17540\n",
            "Low_spent_Medium_value_payments     13861\n",
            "High_spent_Large_value_payments     13721\n",
            "High_spent_Small_value_payments     11340\n",
            "Low_spent_Large_value_payments      10425\n",
            "!@9#%8                               7600\n",
            "Name: count, dtype: int64\n",
            "**************************************************\n",
            "Monthly_Balance\n",
            "__-333333333333333333333333333__    9\n",
            "312.49408867943663                  1\n",
            "415.32532309844316                  1\n",
            "252.08489793906085                  1\n",
            "254.9709216273975                   1\n",
            "                                   ..\n",
            "366.2890379762706                   1\n",
            "151.1882696261166                   1\n",
            "306.75027851710234                  1\n",
            "278.8720257394474                   1\n",
            "393.673696                          1\n",
            "Name: count, Length: 98792, dtype: int64\n",
            "**************************************************\n",
            "Credit_Score\n",
            "Standard    53174\n",
            "Poor        28998\n",
            "Good        17828\n",
            "Name: count, dtype: int64\n",
            "**************************************************\n"
          ]
        },
        {
          "output_type": "execute_result",
          "data": {
            "text/plain": [
              "<Axes: xlabel='count', ylabel='Credit_Score'>"
            ]
          },
          "metadata": {},
          "execution_count": 4
        },
        {
          "output_type": "display_data",
          "data": {
            "text/plain": [
              "<Figure size 640x480 with 1 Axes>"
            ],
            "image/png": "[encoded data removed]"
          },
          "metadata": {}
        }
      ]
    },
    {
      "cell_type": "code",
      "source": [
        "# 1. sprawdź wymiary i typy kolumn\n",
        "print(\"Wymiary danych:\", df.shape)\n",
        "print(\"\\nTypy danych:\\n\", df.dtypes)\n",
        "# 2. usuń duplikaty\n",
        "df = df.drop_duplicates()\n",
        "print(\"\\nLiczba wierszy po usunięciu duplikatów:\", df.shape[0])\n",
        "# 4. sprawdz liczbę braków danych w poszczególnych kolumnach\n",
        "print(\"\\nLiczba brakujących wartości w kolumnach:\\n\", df.isnull().sum())\n"
      ],
      "metadata": {
        "colab": {
          "base_uri": "https://localhost:8080/"
        },
        "collapsed": true,
        "id": "0hrB6iT4UQNz",
        "outputId": "f33f4c46-8f99-401e-b378-fae2374ca326"
      },
      "execution_count": 5,
      "outputs": [
        {
          "output_type": "stream",
          "name": "stdout",
          "text": [
            "Wymiary danych: (100000, 28)\n",
            "\n",
            "Typy danych:\n",
            " ID                           object\n",
            "Customer_ID                  object\n",
            "Month                        object\n",
            "Name                         object\n",
            "Age                          object\n",
            "SSN                          object\n",
            "Occupation                   object\n",
            "Annual_Income                object\n",
            "Monthly_Inhand_Salary       float64\n",
            "Num_Bank_Accounts             int64\n",
            "Num_Credit_Card               int64\n",
            "Interest_Rate                 int64\n",
            "Num_of_Loan                  object\n",
            "Type_of_Loan                 object\n",
            "Delay_from_due_date           int64\n",
            "Num_of_Delayed_Payment       object\n",
            "Changed_Credit_Limit         object\n",
            "Num_Credit_Inquiries        float64\n",
            "Credit_Mix                   object\n",
            "Outstanding_Debt             object\n",
            "Credit_Utilization_Ratio    float64\n",
            "Credit_History_Age           object\n",
            "Payment_of_Min_Amount        object\n",
            "Total_EMI_per_month         float64\n",
            "Amount_invested_monthly      object\n",
            "Payment_Behaviour            object\n",
            "Monthly_Balance              object\n",
            "Credit_Score                 object\n",
            "dtype: object\n",
            "\n",
            "Liczba wierszy po usunięciu duplikatów: 100000\n",
            "\n",
            "Liczba brakujących wartości w kolumnach:\n",
            " ID                              0\n",
            "Customer_ID                     0\n",
            "Month                           0\n",
            "Name                         9985\n",
            "Age                             0\n",
            "SSN                             0\n",
            "Occupation                      0\n",
            "Annual_Income                   0\n",
            "Monthly_Inhand_Salary       15002\n",
            "Num_Bank_Accounts               0\n",
            "Num_Credit_Card                 0\n",
            "Interest_Rate                   0\n",
            "Num_of_Loan                     0\n",
            "Type_of_Loan                11408\n",
            "Delay_from_due_date             0\n",
            "Num_of_Delayed_Payment       7002\n",
            "Changed_Credit_Limit            0\n",
            "Num_Credit_Inquiries         1965\n",
            "Credit_Mix                      0\n",
            "Outstanding_Debt                0\n",
            "Credit_Utilization_Ratio        0\n",
            "Credit_History_Age           9030\n",
            "Payment_of_Min_Amount           0\n",
            "Total_EMI_per_month             0\n",
            "Amount_invested_monthly      4479\n",
            "Payment_Behaviour               0\n",
            "Monthly_Balance              1200\n",
            "Credit_Score                    0\n",
            "dtype: int64\n"
          ]
        }
      ]
    },
    {
      "cell_type": "markdown",
      "source": [
        "Usuń kolumny, które nie będą wykorzystywane w analizie ['ID','Customer_ID','SSN','Name']"
      ],
      "metadata": {
        "id": "Ee52US-_Qzwv"
      }
    },
    {
      "cell_type": "code",
      "source": [
        "df = df.drop(columns=['ID','Customer_ID','SSN','Name'])"
      ],
      "metadata": {
        "id": "NqSgAtqZRDuN"
      },
      "execution_count": 6,
      "outputs": []
    },
    {
      "cell_type": "code",
      "source": [
        "from termcolor import colored\n",
        "df.info()\n",
        "#zmień dane na numeryczne\n",
        "FeaturesToConvert = ['Age','Annual_Income','Num_of_Loan','Num_of_Delayed_Payment',\n",
        "'Changed_Credit_Limit','Outstanding_Debt','Amount_invested_monthly','Monthly_Balance']\n",
        "# ale najpierw sprawdź czy nie ma błędów w danych\n",
        "for feature in FeaturesToConvert:\n",
        " uniques = df[feature].unique()\n",
        " print('Feature:','\\n', colored(feature, attrs =['bold']), '\\n', uniques,'\\n','--'*40,'\\n')"
      ],
      "metadata": {
        "colab": {
          "base_uri": "https://localhost:8080/"
        },
        "collapsed": true,
        "id": "3uOOT6tsREPU",
        "outputId": "b89db5b7-0e69-4871-ff7d-939bafe86b30"
      },
      "execution_count": 7,
      "outputs": [
        {
          "output_type": "stream",
          "name": "stdout",
          "text": [
            "<class 'pandas.core.frame.DataFrame'>\n",
            "RangeIndex: 100000 entries, 0 to 99999\n",
            "Data columns (total 24 columns):\n",
            " #   Column                    Non-Null Count   Dtype  \n",
            "---  ------                    --------------   -----  \n",
            " 0   Month                     100000 non-null  object \n",
            " 1   Age                       100000 non-null  object \n",
            " 2   Occupation                100000 non-null  object \n",
            " 3   Annual_Income             100000 non-null  object \n",
            " 4   Monthly_Inhand_Salary     84998 non-null   float64\n",
            " 5   Num_Bank_Accounts         100000 non-null  int64  \n",
            " 6   Num_Credit_Card           100000 non-null  int64  \n",
            " 7   Interest_Rate             100000 non-null  int64  \n",
            " 8   Num_of_Loan               100000 non-null  object \n",
            " 9   Type_of_Loan              88592 non-null   object \n",
            " 10  Delay_from_due_date       100000 non-null  int64  \n",
            " 11  Num_of_Delayed_Payment    92998 non-null   object \n",
            " 12  Changed_Credit_Limit      100000 non-null  object \n",
            " 13  Num_Credit_Inquiries      98035 non-null   float64\n",
            " 14  Credit_Mix                100000 non-null  object \n",
            " 15  Outstanding_Debt          100000 non-null  object \n",
            " 16  Credit_Utilization_Ratio  100000 non-null  float64\n",
            " 17  Credit_History_Age        90970 non-null   object \n",
            " 18  Payment_of_Min_Amount     100000 non-null  object \n",
            " 19  Total_EMI_per_month       100000 non-null  float64\n",
            " 20  Amount_invested_monthly   95521 non-null   object \n",
            " 21  Payment_Behaviour         100000 non-null  object \n",
            " 22  Monthly_Balance           98800 non-null   object \n",
            " 23  Credit_Score              100000 non-null  object \n",
            "dtypes: float64(4), int64(4), object(16)\n",
            "memory usage: 18.3+ MB\n",
            "Feature: \n",
            " Age \n",
            " ['23' '-500' '28_' ... '4808_' '2263' '1342'] \n",
            " -------------------------------------------------------------------------------- \n",
            "\n",
            "Feature: \n",
            " Annual_Income \n",
            " ['19114.12' '34847.84' '34847.84_' ... '20002.88' '39628.99' '39628.99_'] \n",
            " -------------------------------------------------------------------------------- \n",
            "\n",
            "Feature: \n",
            " Num_of_Loan \n",
            " ['4' '1' '3' '967' '-100' '0' '0_' '2' '3_' '2_' '7' '5' '5_' '6' '8' '8_'\n",
            " '9' '9_' '4_' '7_' '1_' '1464' '6_' '622' '352' '472' '1017' '945' '146'\n",
            " '563' '341' '444' '720' '1485' '49' '737' '1106' '466' '728' '313' '843'\n",
            " '597_' '617' '119' '663' '640' '92_' '1019' '501' '1302' '39' '716' '848'\n",
            " '931' '1214' '186' '424' '1001' '1110' '1152' '457' '1433' '1187' '52'\n",
            " '1480' '1047' '1035' '1347_' '33' '193' '699' '329' '1451' '484' '132'\n",
            " '649' '995' '545' '684' '1135' '1094' '1204' '654' '58' '348' '614'\n",
            " '1363' '323' '1406' '1348' '430' '153' '1461' '905' '1312' '1424' '1154'\n",
            " '95' '1353' '1228' '819' '1006' '795' '359' '1209' '590' '696' '1185_'\n",
            " '1465' '911' '1181' '70' '816' '1369' '143' '1416' '455' '55' '1096'\n",
            " '1474' '420' '1131' '904' '89' '1259' '527' '1241' '449' '983' '418'\n",
            " '319' '23' '238' '638' '138' '235_' '280' '1070' '1484' '274' '494'\n",
            " '1459_' '404' '1354' '1495' '1391' '601' '1313' '1319' '898' '231' '752'\n",
            " '174' '961' '1046' '834' '284' '438' '288' '1463' '1151' '719' '198'\n",
            " '1015' '855' '841' '392' '1444' '103' '1320_' '745' '172' '252' '630_'\n",
            " '241' '31' '405' '1217' '1030' '1257' '137' '157' '164' '1088' '1236'\n",
            " '777' '1048' '613' '330' '1439' '321' '661' '952' '939' '562' '1202'\n",
            " '302' '943' '394' '955' '1318' '936' '781' '100' '1329' '1365' '860'\n",
            " '217' '191' '32' '282' '351' '1387' '757' '416' '833' '359_' '292'\n",
            " '1225_' '1227' '639' '859' '243' '267' '510' '332' '996' '597' '311'\n",
            " '492' '820' '336' '123' '540' '131_' '1311_' '1441' '895' '891' '50'\n",
            " '940' '935' '596' '29' '1182' '1129_' '1014' '251' '365' '291' '1447'\n",
            " '742' '1085' '148' '462' '832' '881' '1225' '1412' '785_' '1127' '910'\n",
            " '538' '999' '733' '101' '237' '87' '659' '633' '387' '447' '629' '831'\n",
            " '1384' '773' '621' '1419' '289' '143_' '285' '1393' '1131_' '27_' '1359'\n",
            " '1482' '1189' '1294' '201' '579' '814' '141' '1320' '581' '1171_' '295'\n",
            " '290' '433' '679' '1040' '1054' '1430' '1023' '1077' '1457' '1150' '701'\n",
            " '1382' '889' '437' '372' '1222' '126' '1159' '868' '19' '1297' '227_'\n",
            " '190' '809' '1216' '1074' '571' '520' '1274' '1340' '991' '316' '697'\n",
            " '926' '873' '1002' '378_' '65' '875' '867' '548' '652' '1372' '606'\n",
            " '1036' '1300' '17' '1178' '802' '1219_' '1271' '1137' '1496' '439' '196'\n",
            " '636' '192' '228' '1053' '229' '753' '1296' '1371' '254' '863' '464'\n",
            " '515' '838' '1160' '1289' '1298' '799' '182' '574' '527_' '242' '415'\n",
            " '869' '958' '54' '1265' '656' '275' '778' '208' '147' '350' '507' '463'\n",
            " '497' '1129' '927' '653' '662' '529' '635' '1027_' '897' '1039' '227'\n",
            " '1345' '924' '696_' '1279' '546' '1112' '1210' '526' '300' '1103' '504'\n",
            " '136' '1400' '78' '686' '1091' '344' '215' '84' '628' '1470' '968' '1478'\n",
            " '83' '1196' '1307' '1132_' '1008' '917' '657' '56' '18' '41' '801' '978'\n",
            " '216' '349' '966'] \n",
            " -------------------------------------------------------------------------------- \n",
            "\n",
            "Feature: \n",
            " Num_of_Delayed_Payment \n",
            " ['7' nan '4' '8_' '6' '1' '-1' '3_' '0' '8' '5' '3' '9' '12' '15' '17'\n",
            " '10' '2' '2_' '11' '14' '20' '22' '13' '13_' '14_' '16' '12_' '18' '19'\n",
            " '23' '24' '21' '3318' '3083' '22_' '1338' '4_' '26' '11_' '3104' '21_'\n",
            " '25' '10_' '183_' '9_' '1106' '834' '19_' '24_' '17_' '23_' '2672' '20_'\n",
            " '2008' '-3' '538' '6_' '1_' '16_' '27' '-2' '3478' '2420' '15_' '707'\n",
            " '708' '26_' '18_' '3815' '28' '5_' '1867' '2250' '1463' '25_' '7_' '4126'\n",
            " '2882' '1941' '2655' '2628' '132' '3069' '306' '0_' '3539' '3684' '1823'\n",
            " '4128' '1946' '827' '2297' '2566' '904' '182' '929' '3568' '2503' '1552'\n",
            " '2812' '1697' '3764' '851' '3905' '923' '88' '1668' '3253' '808' '2689'\n",
            " '3858' '642' '3457' '1402' '1732' '3154' '847' '3037' '2204' '3103'\n",
            " '1063' '2056' '1282' '1841' '2569_' '211' '793' '3484' '411' '3491'\n",
            " '2072' '3050' '1049' '2162' '3402' '2753' '27_' '1718' '1014' '3260'\n",
            " '3855' '84' '2311' '3251' '1832' '4069' '3010' '733' '4241' '166' '2461'\n",
            " '1749' '3200' '663_' '2185' '4161' '3009' '359' '2015' '1523' '594'\n",
            " '1079' '1199' '186' '1015' '1989' '281' '559' '2165' '1509' '3545' '779'\n",
            " '192' '4311' '-2_' '2323' '1471' '1538' '3529' '439' '3456' '3040' '2697'\n",
            " '3179' '1332' '3175' '3112' '829' '4022' '3870' '4023' '531' '1511'\n",
            " '3092' '3191' '2400' '3621' '3536' '544' '1864' '28_' '142' '2300' '264'\n",
            " '72' '497' '398' '2222' '3960' '1473' '3043' '4216' '2903' '2658' '-1_'\n",
            " '4042' '1323_' '2184' '921' '1328' '3404' '2438' '809' '47' '1996' '4164'\n",
            " '1370' '1204' '2167' '4011' '2590' '2594' '2533' '1663' '1018' '2919'\n",
            " '3458' '3316' '2589' '2801' '3355' '2529' '2488' '4266' '1243' '739'\n",
            " '845' '4107' '1884' '337' '2660' '290' '674' '2450' '3738' '1792' '2823'\n",
            " '2570' '775' '960' '482' '1706' '2493' '3623' '3031' '2794_' '2219_'\n",
            " '758_' '1849' '3559' '4096' '3726' '1953' '2657' '4043' '2938' '4384'\n",
            " '1647' '2694' '3533' '519' '2677' '2413' '-3_' '4139' '2609' '4326'\n",
            " '4211' '823' '3011' '1608' '2860' '4219' '4047' '1531' '742' '52' '4024'\n",
            " '1673' '49' '2243' '1685' '1869' '2587' '3489' '749' '1164' '2616' '848_'\n",
            " '4134' '1530' '1502' '4075' '3845' '1060' '2573' '2128' '328' '640'\n",
            " '2585' '2230' '1795' '1180' '1534' '3739' '3313' '4191' '996' '372'\n",
            " '3340' '3177' '602' '787' '4135' '3878' '4059' '1218' '4051' '1766'\n",
            " '1359' '3107' '585' '1263' '2511' '709' '3632' '4077' '2943' '2793'\n",
            " '3245' '2317' '1640' '2237_' '3819' '252' '3978' '1498' '1833' '2737'\n",
            " '1192' '1481' '700' '271' '2286' '273' '1215' '3944' '2070' '1478' '3749'\n",
            " '871' '2508' '2959' '130' '294' '3097_' '3511' '415' '2196' '2138' '2149'\n",
            " '1874' '1553' '3847' '3222' '1222' '2907' '3051' '98' '1598' '416' '2314'\n",
            " '2955' '1691' '1450' '2021' '1636' '80' '3708' '195' '320' '2945' '1911'\n",
            " '3416' '3796' '4159' '2255' '938' '4397' '3776' '2148' '1994' '853'\n",
            " '1178' '1633' '196' '3864' '714' '1687' '1034' '468' '1337' '2044' '1541'\n",
            " '3661' '1211' '2645' '2007' '102' '1891' '3162' '3142' '2566_' '2766'\n",
            " '3881' '2728' '2671' '1952' '3580' '2705' '4251' '3840_' '972' '3119'\n",
            " '3502' '4185' '2954' '683' '1614' '1572' '4302' '3447' '1852' '2131'\n",
            " '1900' '1699' '133' '2018' '2127' '508' '210' '577' '1664' '2604' '1411'\n",
            " '2351' '867' '1371' '2352' '1191' '905' '4053' '3869' '933' '3660' '3300'\n",
            " '3629' '3208' '2142' '2521' '450' '583' '876' '121' '3919' '2560' '2578'\n",
            " '2060' '813' '1236' '1489' '4360' '1154' '2544' '4172' '2924' '426'\n",
            " '4270' '2768' '3909' '3951' '2712' '2498' '3171' '1750' '197' '2569'\n",
            " '265' '4293' '887' '2707' '2397' '4337' '4249' '2751' '2950' '1859' '107'\n",
            " '2348' '2506' '2810' '2873' '1301' '2262' '1890' '3078' '3865' '3268'\n",
            " '2777' '3105' '1278' '3793' '2276' '2879' '4298' '2141' '223' '2239'\n",
            " '846' '1862' '2756' '1181' '1184' '2617' '3972' '2334' '3900' '2759'\n",
            " '4169' '2280' '2492' '2729' '3750' '1825' '309' '2431' '3099' '2080'\n",
            " '2279' '2666' '3722' '1976' '529' '1985' '3060' '4278' '3212' '46' '3148'\n",
            " '3467' '4231' '3790' '473' '1536' '3955' '2324' '2381' '1177' '371'\n",
            " '2896' '3880' '2991' '4319' '1061' '662' '4144' '693' '2006' '3115'\n",
            " '2278_' '3751' '1861' '4262' '2913' '2615' '3492' '800' '3766' '384'\n",
            " '3407' '1087' '3329' '1086' '2216' '1087_' '2457' '3522' '3274' '3488'\n",
            " '2854' '238' '351' '3706' '4280' '4095' '2926' '1329' '3370' '283' '1392'\n",
            " '1743' '2429' '974' '3156' '1133' '4388' '3243' '4282' '2523' '4281'\n",
            " '3415' '2001' '441' '94' '3499' '969' '3368' '106' '1004' '2638' '3946'\n",
            " '2956' '4324' '85' '4113' '819' '615' '1172' '2553' '1765' '3495' '2820'\n",
            " '4239' '4340' '1295_' '2636' '4295' '1653' '1325' '1879' '1096' '1735'\n",
            " '3584' '1073' '1975' '3827' '2552' '3754' '2378' '532' '926' '2376'\n",
            " '3636' '3763' '778' '2621' '804' '754' '2418' '4019' '3926' '3861_'\n",
            " '3574' '175' '162' '2834' '3765' '2354' '523' '2274' '1606' '1443' '1354'\n",
            " '2142_' '1422' '2278' '1045' '4106' '3155' '666' '659' '3229' '1216'\n",
            " '2076' '1473_' '2384' '1954' '719' '2534' '4002' '541' '2875' '4344'\n",
            " '2081' '3894' '1256' '676' '4178' '399' '86' '1571' '4037' '1967' '4005'\n",
            " '3216' '1150' '2591' '1801' '3721' '1775' '2260' '3707' '4292' '1820'\n",
            " '145' '1480' '1850' '430' '217' '3920_' '1389' '1579' '3391' '2385'\n",
            " '3336' '3392' '3688' '221' '2047'] \n",
            " -------------------------------------------------------------------------------- \n",
            "\n",
            "Feature: \n",
            " Changed_Credit_Limit \n",
            " ['11.27' '_' '6.27' ... '17.509999999999998' '25.16' '21.17'] \n",
            " -------------------------------------------------------------------------------- \n",
            "\n",
            "Feature: \n",
            " Outstanding_Debt \n",
            " ['809.98' '605.03' '1303.01' ... '3571.7_' '3571.7' '502.38'] \n",
            " -------------------------------------------------------------------------------- \n",
            "\n",
            "Feature: \n",
            " Amount_invested_monthly \n",
            " ['80.41529543900253' '118.28022162236736' '81.699521264648' ...\n",
            " '24.02847744864441' '251.67258219721603' '167.1638651610451'] \n",
            " -------------------------------------------------------------------------------- \n",
            "\n",
            "Feature: \n",
            " Monthly_Balance \n",
            " ['312.49408867943663' '284.62916249607184' '331.2098628537912' ...\n",
            " 516.8090832742814 319.1649785257098 393.6736955618808] \n",
            " -------------------------------------------------------------------------------- \n",
            "\n"
          ]
        }
      ]
    },
    {
      "cell_type": "markdown",
      "source": [
        "usuń niektore z zbędnych znakow ('_','-'), zmień puste komorki na nan"
      ],
      "metadata": {
        "id": "JPRKQfUiQ1ns"
      }
    },
    {
      "cell_type": "code",
      "source": [
        "# usuń zbędne znaki '-’ , '_'\n",
        "for feature in FeaturesToConvert:\n",
        " df[feature] = df[feature].str.strip('-_')\n",
        "# puste kolumny zastąp NAN\n",
        "for feature in FeaturesToConvert:\n",
        " df[feature] = df[feature].replace({'':np.nan})"
      ],
      "metadata": {
        "id": "APFA1WVyQvGo"
      },
      "execution_count": 8,
      "outputs": []
    },
    {
      "cell_type": "markdown",
      "source": [
        "Zmień nazwy miesiecy na zmienne liczbowe zgodnie z kolejnością miesięcy"
      ],
      "metadata": {
        "id": "ah11XstSQ7oa"
      }
    },
    {
      "cell_type": "code",
      "source": [
        "month_mapping = {\n",
        "    \"January\": 1, \"February\": 2, \"March\": 3, \"April\": 4, \"May\": 5, \"June\": 6,\n",
        "    \"July\": 7, \"August\": 8, \"September\": 9, \"October\": 10, \"November\": 11, \"December\": 12\n",
        "}\n",
        "df['Month'] = df['Month'].map(month_mapping)\n",
        "\n",
        "# sprawdzenie wyników\n",
        "print(df['Month'].unique())"
      ],
      "metadata": {
        "colab": {
          "base_uri": "https://localhost:8080/"
        },
        "id": "ZMVlNW86aZrR",
        "outputId": "58a2bc81-1735-4929-83fa-e4db84ea10c0"
      },
      "execution_count": 9,
      "outputs": [
        {
          "output_type": "stream",
          "name": "stdout",
          "text": [
            "[1 2 3 4 5 6 7 8]\n"
          ]
        }
      ]
    },
    {
      "cell_type": "markdown",
      "source": [
        "Zakoduj zmienne tekstowe: 'Occupation', 'Type_of_Loan', 'Payment_Behaviour', 'Credit_Mix', użyj LabelEncodera"
      ],
      "metadata": {
        "id": "meija54lRIDE"
      }
    },
    {
      "cell_type": "code",
      "source": [
        "col_to_change = ['Occupation', 'Type_of_Loan', 'Payment_Behaviour', 'Credit_Mix']\n",
        "le = LabelEncoder()\n",
        "for col in col_to_change:\n",
        "    df[col] = le.fit_transform(df[col])"
      ],
      "metadata": {
        "id": "aKU1v0VxU_MY"
      },
      "execution_count": null,
      "outputs": []
    },
    {
      "cell_type": "markdown",
      "source": [
        "Przelicz kolumne Credit_History_Age na liczbę mięsiecy"
      ],
      "metadata": {
        "id": "DF-8JUOxbbD_"
      }
    },
    {
      "cell_type": "code",
      "source": [],
      "metadata": {
        "id": "tyTGwlhUbfYX"
      },
      "execution_count": null,
      "outputs": []
    },
    {
      "cell_type": "code",
      "source": [
        "# Rozdzielanie wartości po przecinku i usuwanie zbędnych spacji\n",
        "df['Type_of_Loan'] = df['Type_of_Loan'].str.split(', ')\n",
        "\n",
        "# Użycie MultiLabelBinarizer do One-Hot Encoding\n",
        "mlb = MultiLabelBinarizer()\n",
        "encoded_df = pd.DataFrame(mlb.fit_transform(df['Type_of_Loan']), columns=mlb.classes_)\n",
        "\n",
        "# Łączenie z oryginalnym DataFrame\n",
        "df = df.join(encoded_df).drop(columns=['Type_of_Loan'])\n",
        "\n",
        "print(df.head())"
      ],
      "metadata": {
        "id": "PikSTA3NbjyX"
      },
      "execution_count": null,
      "outputs": []
    },
    {
      "cell_type": "markdown",
      "source": [
        "Zmien inne zmienne na numeryczne\n",
        "\n",
        "Uzupełnij braki w kolumnie Monthly_Inhand_Salary, Annual_Income, .. średnią"
      ],
      "metadata": {
        "id": "E0MfDYXTbk8G"
      }
    },
    {
      "cell_type": "code",
      "source": [],
      "metadata": {
        "id": "7GT5AWkVbn-q"
      },
      "execution_count": null,
      "outputs": []
    },
    {
      "cell_type": "markdown",
      "source": [
        "Narysuj rozkłady zmiennych 'Annual_Income', 'Monthly_Balance'"
      ],
      "metadata": {
        "id": "0cI4GR-3bqcd"
      }
    },
    {
      "cell_type": "code",
      "source": [],
      "metadata": {
        "id": "p7KL9wrQbrTz"
      },
      "execution_count": null,
      "outputs": []
    },
    {
      "cell_type": "markdown",
      "source": [
        "usuń wartości odstające (w przypadku wieku wszystkie ujemne i te powyzej 100 lat)"
      ],
      "metadata": {
        "id": "4fZPZsoUbsFJ"
      }
    },
    {
      "cell_type": "code",
      "source": [],
      "metadata": {
        "id": "lXKE9rPebuSO"
      },
      "execution_count": null,
      "outputs": []
    },
    {
      "cell_type": "markdown",
      "source": [
        "Zwizualizuj korelacje między zmiennymi"
      ],
      "metadata": {
        "id": "y3jBX0U9bwiR"
      }
    },
    {
      "cell_type": "code",
      "source": [],
      "metadata": {
        "id": "3rmz-lVFbxEr"
      },
      "execution_count": null,
      "outputs": []
    }
  ]
}